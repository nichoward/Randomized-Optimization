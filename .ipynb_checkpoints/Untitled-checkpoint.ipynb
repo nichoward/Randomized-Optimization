{
 "cells": [
  {
   "cell_type": "code",
   "execution_count": 1,
   "id": "d9372a33",
   "metadata": {},
   "outputs": [],
   "source": [
    "#!pip install --user mlrose"
   ]
  },
  {
   "cell_type": "code",
   "execution_count": 178,
   "id": "71364c0d",
   "metadata": {},
   "outputs": [],
   "source": [
    "import pandas as pd\n",
    "import numpy as np\n",
    "import time\n",
    "import matplotlib.pyplot as plt\n"
   ]
  },
  {
   "cell_type": "code",
   "execution_count": 3,
   "id": "06e200ae",
   "metadata": {},
   "outputs": [],
   "source": [
    "import six\n",
    "import sys\n",
    "sys.modules['sklearn.externals.six'] = six\n",
    "import mlrose"
   ]
  },
  {
   "cell_type": "code",
   "execution_count": 173,
   "id": "83e35112",
   "metadata": {},
   "outputs": [
    {
     "data": {
      "text/plain": [
       "array([   1,   21,   41,   62,   82,  102,  123,  143,  164,  184,  204,\n",
       "        225,  245,  266,  286,  306,  327,  347,  367,  388,  408,  429,\n",
       "        449,  469,  490,  510,  531,  551,  571,  592,  612,  633,  653,\n",
       "        673,  694,  714,  734,  755,  775,  796,  816,  836,  857,  877,\n",
       "        898,  918,  938,  959,  979, 1000])"
      ]
     },
     "execution_count": 173,
     "metadata": {},
     "output_type": "execute_result"
    }
   ],
   "source": [
    "max_iter = np.linspace(1, 1000, num = 50 , dtype = int)\n",
    "max_iter"
   ]
  },
  {
   "cell_type": "markdown",
   "id": "dabb7669",
   "metadata": {},
   "source": [
    "- https://towardsdatascience.com/getting-started-with-randomized-optimization-in-python-f7df46babff0\n",
    "- https://mlrose.readthedocs.io/en/stable/source/fitness.html\n",
    "- https://mlrose.readthedocs.io/en/stable/source/tutorial1.html#define-a-fitness-function-object"
   ]
  },
  {
   "cell_type": "markdown",
   "id": "d86d79e0",
   "metadata": {},
   "source": [
    "https://mlrose.readthedocs.io/en/stable/source/decay.html#decay\n",
    "https://mlrose.readthedocs.io/en/stable/source/algorithms.html#algs"
   ]
  },
  {
   "cell_type": "markdown",
   "id": "68de1ef1",
   "metadata": {},
   "source": [
    "# simulated annealing"
   ]
  },
  {
   "cell_type": "code",
   "execution_count": null,
   "id": "d063122e",
   "metadata": {},
   "outputs": [],
   "source": [
    "## Set up continuos peaks"
   ]
  },
  {
   "cell_type": "code",
   "execution_count": 162,
   "id": "8efa361d",
   "metadata": {},
   "outputs": [],
   "source": [
    "continuous_peaks = mlrose.ContinuousPeaks(t_pct=0.15)\n",
    "continuous_peaks_state = np.array([1, 1, 1, 0, 1, 0, 0, 1, 0, 0, 0, 0])\n",
    "problem_continuous_peaks = mlrose.DiscreteOpt(length = len(continuous_peaks_state), fitness_fn = continuous_peaks, max_val = 2)\n"
   ]
  },
  {
   "cell_type": "code",
   "execution_count": 202,
   "id": "175fe24d",
   "metadata": {},
   "outputs": [],
   "source": [
    "sa_start_time = time.time()\n",
    "sa_best_state, sa_best_fitness = mlrose.simulated_annealing(problem_continuous_peaks, \n",
    "                                                      max_attempts = 10, max_iters = 1000,\n",
    "                                                      init_state = continuous_peaks_state, random_state = 2)\n",
    "sa_runtime = time.time() - sa_start_time"
   ]
  },
  {
   "cell_type": "code",
   "execution_count": 188,
   "id": "b47f47d0",
   "metadata": {},
   "outputs": [],
   "source": [
    "sa_iter_fitness = []\n",
    "for i in max_iter: \n",
    "    sa_best_state, sa_best_fitness = mlrose.simulated_annealing(problem_continuous_peaks, \n",
    "                                                      max_attempts = 10, max_iters = int(i),\n",
    "                                                      init_state = continuous_peaks_state, random_state = 2)\n",
    "    sa_iter_fitness.append(sa_best_fitness)\n",
    "    "
   ]
  },
  {
   "cell_type": "code",
   "execution_count": 165,
   "id": "e23ec3f3",
   "metadata": {},
   "outputs": [
    {
     "name": "stdout",
     "output_type": "stream",
     "text": [
      "[1 1 1 0 0 0 0 0 0 0 0 0]\n",
      "21.0\n"
     ]
    }
   ],
   "source": [
    "print(sa_best_state)\n",
    "print(sa_best_fitness)"
   ]
  },
  {
   "cell_type": "code",
   "execution_count": null,
   "id": "18a54cc6",
   "metadata": {},
   "outputs": [],
   "source": []
  },
  {
   "cell_type": "code",
   "execution_count": 208,
   "id": "fa514b7c",
   "metadata": {},
   "outputs": [],
   "source": [
    "gen_start_time = time.time()\n",
    "gen_best_state, gen_best_fitness = mlrose.genetic_alg(problem_continuous_peaks, max_attempts = 10, max_iters = 1000, random_state = 2)\n",
    "gen_runtime = time.time() - gen_start_time"
   ]
  },
  {
   "cell_type": "code",
   "execution_count": 189,
   "id": "a971de7c",
   "metadata": {},
   "outputs": [],
   "source": [
    "gen_iter_fitness = []\n",
    "for i in max_iter: \n",
    "    gen_best_state, gen_best_fitness = mlrose.genetic_alg(problem_continuous_peaks, \n",
    "                                                          max_attempts = 10, max_iters = 1000, \n",
    "                                                          random_state = 2)\n",
    "\n",
    "    gen_iter_fitness.append(gen_best_fitness)\n",
    "    "
   ]
  },
  {
   "cell_type": "code",
   "execution_count": 167,
   "id": "ec246808",
   "metadata": {},
   "outputs": [
    {
     "name": "stdout",
     "output_type": "stream",
     "text": [
      "[1 1 1 1 1 1 1 1 1 0 0 0]\n",
      "21.0\n"
     ]
    }
   ],
   "source": [
    "print(gen_best_state)\n",
    "print(gen_best_fitness)"
   ]
  },
  {
   "cell_type": "code",
   "execution_count": 207,
   "id": "8ffbe717",
   "metadata": {},
   "outputs": [],
   "source": [
    "mimic_start_time = time.time()\n",
    "mimic_best_state, mimic_best_fitness = mlrose.mimic(problem_continuous_peaks, max_attempts = 10, max_iters = 1000)\n",
    "mimic_runtime = time.time() - mimic_start_time"
   ]
  },
  {
   "cell_type": "code",
   "execution_count": 195,
   "id": "3f604893",
   "metadata": {},
   "outputs": [
    {
     "name": "stdout",
     "output_type": "stream",
     "text": [
      "20.0\n",
      "20.0\n",
      "20.0\n",
      "20.0\n",
      "20.0\n",
      "20.0\n",
      "20.0\n",
      "20.0\n",
      "20.0\n",
      "20.0\n",
      "20.0\n",
      "20.0\n",
      "20.0\n",
      "20.0\n",
      "20.0\n",
      "20.0\n",
      "20.0\n",
      "20.0\n",
      "20.0\n",
      "20.0\n",
      "20.0\n",
      "20.0\n",
      "20.0\n",
      "20.0\n",
      "20.0\n",
      "20.0\n",
      "20.0\n",
      "20.0\n",
      "20.0\n",
      "20.0\n",
      "20.0\n",
      "20.0\n",
      "20.0\n",
      "20.0\n",
      "20.0\n",
      "20.0\n",
      "20.0\n",
      "20.0\n",
      "20.0\n",
      "20.0\n",
      "20.0\n",
      "20.0\n",
      "20.0\n",
      "20.0\n",
      "20.0\n",
      "20.0\n",
      "20.0\n",
      "20.0\n",
      "20.0\n",
      "20.0\n"
     ]
    }
   ],
   "source": [
    "mimic_iter_fitness = []\n",
    "for i in max_iter: \n",
    "    mimic_best_state, mimic_best_fitness = mlrose.mimic(problem_continuous_peaks,\n",
    "                                                        max_attempts = 10, max_iters = 1000,\n",
    "                                                        random_state = 1)\n",
    "\n",
    "\n",
    "    mimic_iter_fitness.append(mimic_best_fitness)\n",
    "    "
   ]
  },
  {
   "cell_type": "code",
   "execution_count": 200,
   "id": "8ff83a47",
   "metadata": {},
   "outputs": [
    {
     "name": "stdout",
     "output_type": "stream",
     "text": [
      "[0 1 1 1 0 0 0 0 0 0 0 0]\n",
      "20.0\n"
     ]
    }
   ],
   "source": [
    "print(mimic_best_state)\n",
    "print((mimic_best_fitness))"
   ]
  },
  {
   "cell_type": "code",
   "execution_count": 199,
   "id": "6248296c",
   "metadata": {},
   "outputs": [
    {
     "data": {
      "image/png": "[encoded data removed]",
      "text/plain": [
       "<Figure size 432x288 with 1 Axes>"
      ]
     },
     "metadata": {
      "needs_background": "light"
     },
     "output_type": "display_data"
    }
   ],
   "source": [
    "plt.plot(max_iter, sa_iter_fitness, '--', color=\"b\",  label=\"Simulated Annealing\")\n",
    "plt.plot(max_iter, gen_iter_fitness, color=\"r\",  label=\"Genetic\")\n",
    "plt.plot(max_iter, mimic_iter_fitness, color=\"k\",  label=\"MIMIC\")\n",
    "\n",
    "plt.title(\"\")\n",
    "plt.xlabel(\"Number of Iterations\")\n",
    "plt.ylabel(\"Fitness Score\") \n",
    "plt.legend(loc=\"best\")\n",
    "plt.tight_layout()\n",
    "plt.show()"
   ]
  },
  {
   "cell_type": "code",
   "execution_count": 211,
   "id": "8f66dbef",
   "metadata": {},
   "outputs": [
    {
     "data": {
      "image/png": "[encoded data removed]",
      "text/plain": [
       "<Figure size 432x288 with 1 Axes>"
      ]
     },
     "metadata": {
      "needs_background": "light"
     },
     "output_type": "display_data"
    }
   ],
   "source": [
    "optimizer = ['Simulated Annealing', 'Genetic', 'MIMIC']\n",
    "runtime = [sa_runtime, gen_runtime, mimic_runtime]\n",
    "fig = plt.figure()\n",
    "ax = fig.add_axes([0,0,1,1])\n",
    "ax.bar(optimizer,runtime)\n",
    "plt.show()"
   ]
  },
  {
   "cell_type": "markdown",
   "id": "dad40d5f",
   "metadata": {},
   "source": [
    "# genetic algorithm\n"
   ]
  },
  {
   "cell_type": "code",
   "execution_count": 60,
   "id": "7a14227b",
   "metadata": {},
   "outputs": [],
   "source": [
    "one_max = mlrose.OneMax()\n",
    "one_max_init_state = np.array([0, 0, 0, 0, 0, 0, 0, 0, 0])\n",
    "problem_one_max = mlrose.DiscreteOpt(length = 9, fitness_fn = one_max)\n"
   ]
  },
  {
   "cell_type": "code",
   "execution_count": 62,
   "id": "660d9ef3",
   "metadata": {},
   "outputs": [],
   "source": []
  },
  {
   "cell_type": "code",
   "execution_count": 35,
   "id": "97d36117",
   "metadata": {},
   "outputs": [],
   "source": [
    "best_state, best_fitness = mlrose.simulated_annealing(problem_one_max, \n",
    "                                                      max_attempts = 10, max_iters = 1,\n",
    "                                                      init_state = one_max_init_state, random_state = 2)\n"
   ]
  },
  {
   "cell_type": "code",
   "execution_count": 36,
   "id": "228a20b6",
   "metadata": {},
   "outputs": [
    {
     "data": {
      "text/plain": [
       "array([1, 0, 0, 0, 0, 0, 0])"
      ]
     },
     "execution_count": 36,
     "metadata": {},
     "output_type": "execute_result"
    }
   ],
   "source": [
    "best_state"
   ]
  },
  {
   "cell_type": "code",
   "execution_count": 37,
   "id": "fab9b431",
   "metadata": {},
   "outputs": [
    {
     "data": {
      "text/plain": [
       "1.0"
      ]
     },
     "execution_count": 37,
     "metadata": {},
     "output_type": "execute_result"
    }
   ],
   "source": [
    "best_fitness"
   ]
  },
  {
   "cell_type": "code",
   "execution_count": 63,
   "id": "9ddff95a",
   "metadata": {},
   "outputs": [],
   "source": [
    "best_state, best_fitness = mlrose.genetic_alg(problem_one_max, max_attempts = 10, max_iters = 3)"
   ]
  },
  {
   "cell_type": "code",
   "execution_count": 64,
   "id": "c94665b8",
   "metadata": {},
   "outputs": [
    {
     "data": {
      "text/plain": [
       "array([1, 1, 1, 1, 1, 1, 1, 1, 1])"
      ]
     },
     "execution_count": 64,
     "metadata": {},
     "output_type": "execute_result"
    }
   ],
   "source": [
    "best_state"
   ]
  },
  {
   "cell_type": "code",
   "execution_count": 65,
   "id": "40598a04",
   "metadata": {},
   "outputs": [
    {
     "data": {
      "text/plain": [
       "9.0"
      ]
     },
     "execution_count": 65,
     "metadata": {},
     "output_type": "execute_result"
    }
   ],
   "source": [
    "best_fitness"
   ]
  },
  {
   "cell_type": "code",
   "execution_count": 53,
   "id": "503ee5ce",
   "metadata": {},
   "outputs": [],
   "source": [
    "best_state, best_fitness = mlrose.mimic(problem_one_max, max_attempts = 10, max_iters = 1)"
   ]
  },
  {
   "cell_type": "code",
   "execution_count": 54,
   "id": "d0867bf2",
   "metadata": {},
   "outputs": [
    {
     "data": {
      "text/plain": [
       "array([1, 1, 1, 1, 1, 1, 1])"
      ]
     },
     "execution_count": 54,
     "metadata": {},
     "output_type": "execute_result"
    }
   ],
   "source": [
    "best_state"
   ]
  },
  {
   "cell_type": "markdown",
   "id": "537cb2ee",
   "metadata": {},
   "source": [
    "# MIMIC"
   ]
  },
  {
   "cell_type": "code",
   "execution_count": 122,
   "id": "afe4313c",
   "metadata": {},
   "outputs": [],
   "source": [
    "weights = [10, 5, 2, 8, 15]\n",
    "values = [1, 2, 3, 4, 5]\n",
    "max_weight_pct = 0.6\n",
    "knapsack = mlrose.Knapsack(weights, values, max_weight_pct)\n",
    "knapsack_init_state = np.array([1, 0, 2, 1, 0])\n"
   ]
  },
  {
   "cell_type": "code",
   "execution_count": 123,
   "id": "55467081",
   "metadata": {},
   "outputs": [
    {
     "data": {
      "text/plain": [
       "24.0"
      ]
     },
     "execution_count": 123,
     "metadata": {},
     "output_type": "execute_result"
    }
   ],
   "source": [
    "sum(weights) *.6"
   ]
  },
  {
   "cell_type": "code",
   "execution_count": 124,
   "id": "cf3893a5",
   "metadata": {},
   "outputs": [],
   "source": [
    "problem_knapsack = mlrose.DiscreteOpt(length = 5, fitness_fn = knapsack)"
   ]
  },
  {
   "cell_type": "code",
   "execution_count": 125,
   "id": "ffa73259",
   "metadata": {},
   "outputs": [],
   "source": [
    "#initial state really matters\n",
    "#converges to differnet state each time\n",
    "sa_best_state, sa_best_fitness = mlrose.simulated_annealing(problem_knapsack, \n",
    "                                                      max_attempts = 10, max_iters = 1000,\n",
    "                                                      init_state = knapsack_init_state, random_state = 2)\n"
   ]
  },
  {
   "cell_type": "code",
   "execution_count": 126,
   "id": "c4e12186",
   "metadata": {},
   "outputs": [
    {
     "name": "stdout",
     "output_type": "stream",
     "text": [
      "[0 1 1 1 0]\n",
      "9.0\n"
     ]
    }
   ],
   "source": [
    "print(sa_best_state)\n",
    "print(sa_best_fitness)"
   ]
  },
  {
   "cell_type": "code",
   "execution_count": 127,
   "id": "4883fad5",
   "metadata": {},
   "outputs": [],
   "source": [
    "gen_best_state, gen_best_fitness = mlrose.genetic_alg(problem_knapsack, max_attempts = 10, max_iters = 1, random_state = 2)"
   ]
  },
  {
   "cell_type": "code",
   "execution_count": 128,
   "id": "623bd8a9",
   "metadata": {},
   "outputs": [
    {
     "name": "stdout",
     "output_type": "stream",
     "text": [
      "[0 1 1 0 1]\n",
      "10.0\n"
     ]
    }
   ],
   "source": [
    "print(gen_best_state)\n",
    "print(gen_best_fitness)"
   ]
  },
  {
   "cell_type": "code",
   "execution_count": 129,
   "id": "b7c416cb",
   "metadata": {},
   "outputs": [],
   "source": [
    "mimic_best_state, mimic_best_fitness = mlrose.mimic(problem_knapsack, max_attempts = 10, max_iters = 1000)"
   ]
  },
  {
   "cell_type": "code",
   "execution_count": 130,
   "id": "903e5968",
   "metadata": {},
   "outputs": [
    {
     "name": "stdout",
     "output_type": "stream",
     "text": [
      "[0 1 1 0 1]\n",
      "10.0\n"
     ]
    }
   ],
   "source": [
    "print(mimic_best_state)\n",
    "print(mimic_best_fitness)"
   ]
  },
  {
   "cell_type": "code",
   "execution_count": null,
   "id": "70afd0ba",
   "metadata": {},
   "outputs": [],
   "source": []
  },
  {
   "cell_type": "code",
   "execution_count": null,
   "id": "1ecd090e",
   "metadata": {},
   "outputs": [],
   "source": []
  }
 ],
 "metadata": {
  "kernelspec": {
   "display_name": "Python 3 (ipykernel)",
   "language": "python",
   "name": "python3"
  },
  "language_info": {
   "codemirror_mode": {
    "name": "ipython",
    "version": 3
   },
   "file_extension": ".py",
   "mimetype": "text/x-python",
   "name": "python",
   "nbconvert_exporter": "python",
   "pygments_lexer": "ipython3",
   "version": "3.9.6"
  }
 },
 "nbformat": 4,
 "nbformat_minor": 5
}
