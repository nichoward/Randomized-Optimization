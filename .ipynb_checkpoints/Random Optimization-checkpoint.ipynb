{
 "cells": [
  {
   "cell_type": "code",
   "execution_count": 1,
   "id": "d9372a33",
   "metadata": {},
   "outputs": [],
   "source": [
    "#!pip install --user mlrose"
   ]
  },
  {
   "cell_type": "code",
   "execution_count": 178,
   "id": "71364c0d",
   "metadata": {},
   "outputs": [],
   "source": [
    "import pandas as pd\n",
    "import numpy as np\n",
    "import time\n",
    "import matplotlib.pyplot as plt\n"
   ]
  },
  {
   "cell_type": "code",
   "execution_count": 3,
   "id": "06e200ae",
   "metadata": {},
   "outputs": [],
   "source": [
    "import six\n",
    "import sys\n",
    "sys.modules['sklearn.externals.six'] = six\n",
    "import mlrose"
   ]
  },
  {
   "cell_type": "code",
   "execution_count": 173,
   "id": "3a814b28",
   "metadata": {},
   "outputs": [
    {
     "data": {
      "text/plain": [
       "array([   1,   21,   41,   62,   82,  102,  123,  143,  164,  184,  204,\n",
       "        225,  245,  266,  286,  306,  327,  347,  367,  388,  408,  429,\n",
       "        449,  469,  490,  510,  531,  551,  571,  592,  612,  633,  653,\n",
       "        673,  694,  714,  734,  755,  775,  796,  816,  836,  857,  877,\n",
       "        898,  918,  938,  959,  979, 1000])"
      ]
     },
     "execution_count": 173,
     "metadata": {},
     "output_type": "execute_result"
    }
   ],
   "source": [
    "max_iter = np.linspace(1, 1000, num = 50 , dtype = int)\n",
    "max_iter"
   ]
  },
  {
   "cell_type": "markdown",
   "id": "dabb7669",
   "metadata": {},
   "source": [
    "- https://towardsdatascience.com/getting-started-with-randomized-optimization-in-python-f7df46babff0\n",
    "- https://mlrose.readthedocs.io/en/stable/source/fitness.html\n",
    "- https://mlrose.readthedocs.io/en/stable/source/tutorial1.html#define-a-fitness-function-object"
   ]
  },
  {
   "cell_type": "markdown",
   "id": "d86d79e0",
   "metadata": {},
   "source": [
    "https://mlrose.readthedocs.io/en/stable/source/decay.html#decay\n",
    "https://mlrose.readthedocs.io/en/stable/source/algorithms.html#algs"
   ]
  },
  {
   "cell_type": "markdown",
   "id": "68de1ef1",
   "metadata": {},
   "source": [
    "# Strengths of Simulated Annealing"
   ]
  },
  {
   "cell_type": "markdown",
   "id": "961b2bb4",
   "metadata": {},
   "source": [
    "## Set up continuos peaks"
   ]
  },
  {
   "cell_type": "code",
   "execution_count": 256,
   "id": "8efa361d",
   "metadata": {},
   "outputs": [],
   "source": [
    "continuous_peaks = mlrose.ContinuousPeaks(t_pct=0.15)\n",
    "continuous_peaks_state = np.array([1, 1, 1, 0, 1, 0, 0, 1, 0, 0, 0, 0])\n",
    "problem_continuous_peaks = mlrose.DiscreteOpt(length = len(continuous_peaks_state), fitness_fn = continuous_peaks, max_val = 2)\n"
   ]
  },
  {
   "cell_type": "markdown",
   "id": "863f2a44",
   "metadata": {},
   "source": [
    "## Random Hill Climb "
   ]
  },
  {
   "cell_type": "code",
   "execution_count": 267,
   "id": "b98c49ac",
   "metadata": {},
   "outputs": [],
   "source": [
    "random_start_time = time.time()\n",
    "random_best_state, random_best_fitness = mlrose.random_hill_climb(problem_continuous_peaks, \n",
    "                                                      max_attempts = 10, max_iters = 1000,\n",
    "                                                      init_state = continuous_peaks_state, random_state = 2)\n",
    "random_runtime = time.time() - random_start_time\n",
    "\n",
    "random_iter_fitness = []\n",
    "for i in max_iter: \n",
    "    random_best_state, random_best_fitness = mlrose.random_hill_climb(problem_continuous_peaks, \n",
    "                                                      max_attempts = 10, max_iters = int(i),\n",
    "                                                      init_state = continuous_peaks_state, random_state = 2)\n",
    "    random_iter_fitness.append(random_best_fitness)\n",
    "    "
   ]
  },
  {
   "cell_type": "markdown",
   "id": "1fb94e2e",
   "metadata": {},
   "source": [
    "## Simulated Annealing"
   ]
  },
  {
   "cell_type": "code",
   "execution_count": 258,
   "id": "175fe24d",
   "metadata": {},
   "outputs": [],
   "source": [
    "sa_start_time = time.time()\n",
    "sa_best_state, sa_best_fitness = mlrose.simulated_annealing(problem_continuous_peaks, \n",
    "                                                      max_attempts = 10, max_iters = 1000,\n",
    "                                                      init_state = continuous_peaks_state, random_state = 2)\n",
    "sa_runtime = time.time() - sa_start_time\n",
    "\n",
    "sa_iter_fitness = []\n",
    "for i in max_iter: \n",
    "    sa_best_state, sa_best_fitness = mlrose.simulated_annealing(problem_continuous_peaks, \n",
    "                                                      max_attempts = 10, max_iters = int(i),\n",
    "                                                      init_state = continuous_peaks_state, random_state = 2)\n",
    "    sa_iter_fitness.append(sa_best_fitness)\n",
    "    "
   ]
  },
  {
   "cell_type": "markdown",
   "id": "58b5e459",
   "metadata": {},
   "source": [
    "## Genetic "
   ]
  },
  {
   "cell_type": "code",
   "execution_count": 259,
   "id": "fa514b7c",
   "metadata": {},
   "outputs": [],
   "source": [
    "gen_start_time = time.time()\n",
    "gen_best_state, gen_best_fitness = mlrose.genetic_alg(problem_continuous_peaks, max_attempts = 10, max_iters = 1000, random_state = 2)\n",
    "gen_runtime = time.time() - gen_start_time\n",
    "\n",
    "\n",
    "gen_iter_fitness = []\n",
    "for i in max_iter: \n",
    "    gen_best_state, gen_best_fitness = mlrose.genetic_alg(problem_continuous_peaks, \n",
    "                                                          max_attempts = 10, max_iters = 1000, \n",
    "                                                          random_state = 2)\n",
    "\n",
    "    gen_iter_fitness.append(gen_best_fitness)\n",
    "    "
   ]
  },
  {
   "cell_type": "markdown",
   "id": "352bd9ff",
   "metadata": {},
   "source": [
    "## MIMIC"
   ]
  },
  {
   "cell_type": "code",
   "execution_count": 260,
   "id": "8ffbe717",
   "metadata": {},
   "outputs": [],
   "source": [
    "mimic_start_time = time.time()\n",
    "mimic_best_state, mimic_best_fitness = mlrose.mimic(problem_continuous_peaks, max_attempts = 10, max_iters = 1000)\n",
    "mimic_runtime = time.time() - mimic_start_time\n",
    "\n",
    "mimic_iter_fitness = []\n",
    "for i in max_iter: \n",
    "    mimic_best_state, mimic_best_fitness = mlrose.mimic(problem_continuous_peaks,\n",
    "                                                        max_attempts = 10, max_iters = 1000,\n",
    "                                                        random_state = 1)\n",
    "\n",
    "\n",
    "    mimic_iter_fitness.append(mimic_best_fitness)"
   ]
  },
  {
   "cell_type": "markdown",
   "id": "dc4bc6ec",
   "metadata": {},
   "source": [
    "## Iteration Comparsion"
   ]
  },
  {
   "cell_type": "code",
   "execution_count": 268,
   "id": "d0e4c296",
   "metadata": {},
   "outputs": [
    {
     "data": {
      "image/png": "[encoded data removed]",
      "text/plain": [
       "<Figure size 432x288 with 1 Axes>"
      ]
     },
     "metadata": {
      "needs_background": "light"
     },
     "output_type": "display_data"
    }
   ],
   "source": [
    "plt.plot(max_iter, sa_iter_fitness, '--', color=\"b\",  label=\"Simulated Annealing\")\n",
    "plt.plot(max_iter, gen_iter_fitness, color=\"r\",  label=\"Genetic\")\n",
    "plt.plot(max_iter, mimic_iter_fitness, color=\"k\",  label=\"MIMIC\")\n",
    "plt.plot(max_iter, random_iter_fitness, linestyle = 'dotted', color=\"m\",  label=\"Random Hill Climb\")\n",
    "\n",
    "plt.title(\"\")\n",
    "plt.xlabel(\"Number of Iterations\")\n",
    "plt.ylabel(\"Fitness Score\") \n",
    "plt.legend(loc=\"best\")\n",
    "plt.tight_layout()\n",
    "plt.show()"
   ]
  },
  {
   "cell_type": "markdown",
   "id": "3dedc001",
   "metadata": {},
   "source": [
    "## Runtime Comparison"
   ]
  },
  {
   "cell_type": "code",
   "execution_count": 262,
   "id": "6d4a7b8d",
   "metadata": {},
   "outputs": [
    {
     "data": {
      "image/png": "[encoded data removed]",
      "text/plain": [
       "<Figure size 432x288 with 1 Axes>"
      ]
     },
     "metadata": {
      "needs_background": "light"
     },
     "output_type": "display_data"
    }
   ],
   "source": [
    "optimizer = ['Random Hill Climb', 'Simulated Annealing', 'Genetic', 'MIMIC']\n",
    "runtime = [random_runtime, sa_runtime, gen_runtime, mimic_runtime]\n",
    "fig = plt.figure()\n",
    "ax = fig.add_axes([0,0,1,1])\n",
    "ax.bar(optimizer,runtime)\n",
    "plt.ylabel(\"Time in Seconds\") \n",
    "plt.show()\n"
   ]
  },
  {
   "cell_type": "markdown",
   "id": "dad40d5f",
   "metadata": {},
   "source": [
    "# Strengths of Genetic Algorithm\n"
   ]
  },
  {
   "cell_type": "markdown",
   "id": "3386976f",
   "metadata": {},
   "source": [
    "## Set up One Max Problem "
   ]
  },
  {
   "cell_type": "code",
   "execution_count": 270,
   "id": "7a14227b",
   "metadata": {},
   "outputs": [],
   "source": [
    "one_max1 = mlrose.OneMax()\n",
    "one_max_init_state = np.array([0, 0, 0, 0, 0, 0, 0, 0, 0])\n",
    "problem_one_max = mlrose.DiscreteOpt(length = len(one_max_init_state1), fitness_fn = one_max)\n"
   ]
  },
  {
   "cell_type": "markdown",
   "id": "6738e51b",
   "metadata": {},
   "source": [
    "## Random Hill Climb"
   ]
  },
  {
   "cell_type": "code",
   "execution_count": 272,
   "id": "24eb9c73",
   "metadata": {},
   "outputs": [],
   "source": [
    "random_start_time1 = time.time()\n",
    "random_best_state1, random_best_fitness1 = mlrose.random_hill_climb(problem_one_max, \n",
    "                                                      max_attempts = 10, max_iters = 1000,\n",
    "                                                      init_state = one_max_init_state, random_state = 2)\n",
    "random_runtime1 = time.time() - random_start_time1\n",
    "\n",
    "random_iter_fitness1 = []\n",
    "for i in max_iter: \n",
    "    random_best_state1, random_best_fitness1 = mlrose.random_hill_climb(problem_one_max, \n",
    "                                                      max_attempts = 10, max_iters = int(i),\n",
    "                                                      init_state = one_max_init_state, random_state = 2)\n",
    "    random_iter_fitness1.append(random_best_fitness1)\n",
    "    "
   ]
  },
  {
   "cell_type": "markdown",
   "id": "0bba5c7f",
   "metadata": {},
   "source": [
    "## Simulated Annealing"
   ]
  },
  {
   "cell_type": "code",
   "execution_count": 273,
   "id": "660d9ef3",
   "metadata": {},
   "outputs": [],
   "source": [
    "sa_start_time1 = time.time()\n",
    "sa_best_state1, sa_best_fitness1 = mlrose.simulated_annealing(problem_one_max, \n",
    "                                                      max_attempts = 10, max_iters = 1000,\n",
    "                                                      init_state = one_max_init_state, random_state = 2)\n",
    "sa_runtime1 = time.time() - sa_start_time1\n",
    "\n",
    "sa_iter_fitness1 = []\n",
    "for i in max_iter: \n",
    "    sa_best_state1, sa_best_fitness1 = mlrose.simulated_annealing(problem_one_max, \n",
    "                                                      max_attempts = 10, max_iters = int(i),\n",
    "                                                      init_state = one_max_init_state, random_state = 2)\n",
    "    sa_iter_fitness1.append(sa_best_fitness1)\n",
    "    "
   ]
  },
  {
   "cell_type": "markdown",
   "id": "f6e27baf",
   "metadata": {},
   "source": [
    "## Genetic Algorithm"
   ]
  },
  {
   "cell_type": "code",
   "execution_count": 275,
   "id": "d47fb267",
   "metadata": {},
   "outputs": [],
   "source": [
    "gen_start_time1= time.time()\n",
    "gen_best_state1, gen_best_fitness1 = mlrose.genetic_alg(problem_one_max, max_attempts = 10, max_iters = 1000, random_state =2)\n",
    "gen_runtime1 = time.time() - gen_start_time1\n",
    "\n",
    "\n",
    "gen_iter_fitness1 = []\n",
    "for i in max_iter: \n",
    "    gen_best_state1, gen_best_fitness1 = mlrose.genetic_alg(problem_one_max, max_attempts = 10, max_iters = int(i), random_state = 2)\n",
    "\n",
    "    gen_iter_fitness1.append(gen_best_fitness1)\n",
    "    "
   ]
  },
  {
   "cell_type": "markdown",
   "id": "4217afda",
   "metadata": {},
   "source": [
    "## MIMIC"
   ]
  },
  {
   "cell_type": "code",
   "execution_count": 277,
   "id": "c94665b8",
   "metadata": {},
   "outputs": [],
   "source": [
    "mimic_start_time1 = time.time()\n",
    "mimic_best_state1, mimic_best_fitness1 = mlrose.mimic(problem_one_max, max_attempts = 10, max_iters = 1000, random_state = 2)\n",
    "mimic_runtime1 = time.time() - mimic_start_time1\n",
    "\n",
    "mimic_iter_fitness1 = []\n",
    "for i in max_iter: \n",
    "    mimic_best_state1, mimic_best_fitness1 = mlrose.mimic(problem_one_max, max_attempts = 10,max_iters = int(i), random_state = 2)\n",
    "\n",
    "\n",
    "    mimic_iter_fitness1.append(mimic_best_fitness1)"
   ]
  },
  {
   "cell_type": "code",
   "execution_count": null,
   "id": "cede97d6",
   "metadata": {},
   "outputs": [],
   "source": []
  },
  {
   "cell_type": "code",
   "execution_count": 278,
   "id": "6571b934",
   "metadata": {},
   "outputs": [
    {
     "data": {
      "image/png": "[encoded data removed]",
      "text/plain": [
       "<Figure size 432x288 with 1 Axes>"
      ]
     },
     "metadata": {
      "needs_background": "light"
     },
     "output_type": "display_data"
    }
   ],
   "source": [
    "plt.plot(max_iter, sa_iter_fitness1, '--', color=\"b\",  label=\"Simulated Annealing\")\n",
    "plt.plot(max_iter, gen_iter_fitness1, color=\"r\",  label=\"Genetic\")\n",
    "plt.plot(max_iter, mimic_iter_fitness1, color=\"k\",  label=\"MIMIC\")\n",
    "plt.plot(max_iter, random_iter_fitness1, linestyle = 'dotted', color=\"m\",  label=\"Random Hill Climb\")\n",
    "\n",
    "plt.title(\"\")\n",
    "plt.xlabel(\"Number of Iterations\")\n",
    "plt.ylabel(\"Fitness Score\") \n",
    "plt.legend(loc=\"best\")\n",
    "plt.tight_layout()\n",
    "plt.show()"
   ]
  },
  {
   "cell_type": "code",
   "execution_count": 279,
   "id": "22751cf4",
   "metadata": {},
   "outputs": [
    {
     "data": {
      "image/png": "[encoded data removed]",
      "text/plain": [
       "<Figure size 432x288 with 1 Axes>"
      ]
     },
     "metadata": {
      "needs_background": "light"
     },
     "output_type": "display_data"
    }
   ],
   "source": [
    "optimizer = ['Random Hill Climb', 'Simulated Annealing', 'Genetic', 'MIMIC']\n",
    "runtime = [random_runtime1, sa_runtime1, gen_runtime1, mimic_runtime1]\n",
    "fig = plt.figure()\n",
    "ax = fig.add_axes([0,0,1,1])\n",
    "ax.bar(optimizer,runtime)\n",
    "plt.ylabel(\"Time in Seconds\") \n",
    "plt.show()\n"
   ]
  },
  {
   "cell_type": "markdown",
   "id": "537cb2ee",
   "metadata": {},
   "source": [
    "# Strengths of MIMIC"
   ]
  },
  {
   "cell_type": "markdown",
   "id": "c2408bd6",
   "metadata": {},
   "source": [
    "## Set Up Knapsack"
   ]
  },
  {
   "cell_type": "code",
   "execution_count": 314,
   "id": "afe4313c",
   "metadata": {},
   "outputs": [],
   "source": [
    "weights = [10, 5, 2, 8, 15]\n",
    "values = [1, 2, 3, 4, 5]\n",
    "max_weight_pct = 0.6\n",
    "knapsack = mlrose.Knapsack(weights, values, max_weight_pct)\n",
    "knapsack_init_state = np.array([1, 0, 1, 1, 0])\n",
    "\n",
    "problem_knapsack = mlrose.DiscreteOpt(length = 5, fitness_fn = knapsack)\n"
   ]
  },
  {
   "cell_type": "markdown",
   "id": "ae14c7a5",
   "metadata": {},
   "source": [
    "## Random Hill Climb"
   ]
  },
  {
   "cell_type": "code",
   "execution_count": 315,
   "id": "03b79796",
   "metadata": {},
   "outputs": [],
   "source": [
    "random_start_time2 = time.time()\n",
    "random_best_state2, random_best_fitness2 = mlrose.random_hill_climb(problem_knapsack, \n",
    "                                                      max_attempts = 10, max_iters = 1000,\n",
    "                                                      init_state = knapsack_init_state, random_state = 2)\n",
    "random_runtime2 = time.time() - random_start_time2\n",
    "\n",
    "random_iter_fitness2 = []\n",
    "for i in max_iter: \n",
    "    random_best_state2, random_best_fitness2 = mlrose.random_hill_climb(problem_knapsack, \n",
    "                                                      max_attempts = 10, max_iters = int(i),\n",
    "                                                      init_state = knapsack_init_state, random_state = 2)\n",
    "    random_iter_fitness2.append(random_best_fitness2)\n",
    "    "
   ]
  },
  {
   "cell_type": "markdown",
   "id": "a7a8d521",
   "metadata": {},
   "source": [
    "## Simulated Annealing "
   ]
  },
  {
   "cell_type": "code",
   "execution_count": 316,
   "id": "cf3893a5",
   "metadata": {},
   "outputs": [],
   "source": [
    "sa_start_time2 = time.time()\n",
    "sa_best_state2, sa_best_fitness2 = mlrose.simulated_annealing(problem_knapsack, \n",
    "                                                      max_attempts = 10, max_iters = 1000,\n",
    "                                                      init_state = knapsack_init_state, random_state = 2)\n",
    "sa_runtime2 = time.time() - sa_start_time2\n",
    "\n",
    "sa_iter_fitness2 = []\n",
    "for i in max_iter: \n",
    "    sa_best_state, sa_best_fitness = mlrose.simulated_annealing(problem_knapsack, \n",
    "                                                      max_attempts = 10, max_iters = int(i),\n",
    "                                                      init_state = knapsack_init_state, random_state = 2)\n",
    "    sa_iter_fitness2.append(sa_best_fitness2)\n",
    "    "
   ]
  },
  {
   "cell_type": "code",
   "execution_count": 317,
   "id": "82a990fc",
   "metadata": {},
   "outputs": [
    {
     "data": {
      "text/plain": [
       "array([0, 1, 1, 1, 0])"
      ]
     },
     "execution_count": 317,
     "metadata": {},
     "output_type": "execute_result"
    }
   ],
   "source": [
    "sa_best_state"
   ]
  },
  {
   "cell_type": "markdown",
   "id": "719fc85a",
   "metadata": {},
   "source": [
    "## Genetic"
   ]
  },
  {
   "cell_type": "code",
   "execution_count": 306,
   "id": "cdaa2973",
   "metadata": {},
   "outputs": [],
   "source": [
    "gen_start_time2 = time.time()\n",
    "gen_best_state2, gen_best_fitness2 = mlrose.genetic_alg(problem_knapsack, max_attempts = 10, max_iters = 1000, random_state = 2)\n",
    "gen_runtime2 = time.time() - gen_start_time2\n",
    "\n",
    "\n",
    "gen_iter_fitness2 = []\n",
    "for i in max_iter: \n",
    "    gen_best_state2, gen_best_fitness2 = mlrose.genetic_alg(problem_knapsack, max_attempts = 10, max_iters = int(i), random_state = 2)\n",
    "\n",
    "    gen_iter_fitness2.append(gen_best_fitness2)\n",
    "    "
   ]
  },
  {
   "cell_type": "code",
   "execution_count": 307,
   "id": "2992a64b",
   "metadata": {},
   "outputs": [
    {
     "data": {
      "text/plain": [
       "array([0, 1, 1, 0, 1])"
      ]
     },
     "execution_count": 307,
     "metadata": {},
     "output_type": "execute_result"
    }
   ],
   "source": [
    "gen_best_state2"
   ]
  },
  {
   "cell_type": "markdown",
   "id": "9fad4afa",
   "metadata": {},
   "source": [
    "## MIMIC"
   ]
  },
  {
   "cell_type": "code",
   "execution_count": 308,
   "id": "5e0290a8",
   "metadata": {},
   "outputs": [],
   "source": [
    "mimic_start_time2 = time.time()\n",
    "mimic_best_state2, mimic_best_fitness2 = mlrose.mimic(problem_knapsack, max_attempts = 10, max_iters = 1000, random_state = 2)\n",
    "mimic_runtime2 = time.time() - mimic_start_time2\n",
    "\n",
    "mimic_iter_fitness2 = []\n",
    "for i in max_iter: \n",
    "    mimic_best_state2, mimic_best_fitness2 = mlrose.mimic(problem_knapsack, max_attempts = 10,max_iters = int(i), random_state = 2)\n",
    "\n",
    "\n",
    "    mimic_iter_fitness2.append(mimic_best_fitness2)"
   ]
  },
  {
   "cell_type": "code",
   "execution_count": 309,
   "id": "ede3ec18",
   "metadata": {},
   "outputs": [
    {
     "data": {
      "text/plain": [
       "array([0, 1, 1, 0, 1])"
      ]
     },
     "execution_count": 309,
     "metadata": {},
     "output_type": "execute_result"
    }
   ],
   "source": [
    "mimic_best_state2"
   ]
  },
  {
   "cell_type": "code",
   "execution_count": 318,
   "id": "c46c5dc5",
   "metadata": {},
   "outputs": [
    {
     "data": {
      "image/png": "[encoded data removed]",
      "text/plain": [
       "<Figure size 432x288 with 1 Axes>"
      ]
     },
     "metadata": {
      "needs_background": "light"
     },
     "output_type": "display_data"
    }
   ],
   "source": [
    "plt.plot(max_iter, sa_iter_fitness2, '--', color=\"b\",  label=\"Simulated Annealing\")\n",
    "plt.plot(max_iter, gen_iter_fitness2, color=\"r\",  label=\"Genetic\")\n",
    "plt.plot(max_iter, mimic_iter_fitness2, color=\"k\",  label=\"MIMIC\")\n",
    "plt.plot(max_iter, random_iter_fitness2, linestyle = 'dotted', color=\"m\",  label=\"Random Hill Climb\")\n",
    "\n",
    "plt.title(\"\")\n",
    "plt.xlabel(\"Number of Iterations\")\n",
    "plt.ylabel(\"Fitness Score\") \n",
    "plt.legend(loc=\"best\")\n",
    "plt.tight_layout()\n",
    "plt.show()"
   ]
  },
  {
   "cell_type": "code",
   "execution_count": 319,
   "id": "78d1ba17",
   "metadata": {},
   "outputs": [
    {
     "data": {
      "image/png": "[encoded data removed]",
      "text/plain": [
       "<Figure size 432x288 with 1 Axes>"
      ]
     },
     "metadata": {
      "needs_background": "light"
     },
     "output_type": "display_data"
    }
   ],
   "source": [
    "optimizer = ['Random Hill Climb', 'Simulated Annealing', 'Genetic', 'MIMIC']\n",
    "runtime = [random_runtime2, sa_runtime2, gen_runtime2, mimic_runtime2]\n",
    "fig = plt.figure()\n",
    "ax = fig.add_axes([0,0,1,1])\n",
    "ax.bar(optimizer,runtime)\n",
    "plt.ylabel(\"Time in Seconds\") \n",
    "plt.show()\n"
   ]
  },
  {
   "cell_type": "code",
   "execution_count": null,
   "id": "70afd0ba",
   "metadata": {},
   "outputs": [],
   "source": []
  },
  {
   "cell_type": "code",
   "execution_count": null,
   "id": "1ecd090e",
   "metadata": {},
   "outputs": [],
   "source": []
  }
 ],
 "metadata": {
  "kernelspec": {
   "display_name": "Python 3 (ipykernel)",
   "language": "python",
   "name": "python3"
  },
  "language_info": {
   "codemirror_mode": {
    "name": "ipython",
    "version": 3
   },
   "file_extension": ".py",
   "mimetype": "text/x-python",
   "name": "python",
   "nbconvert_exporter": "python",
   "pygments_lexer": "ipython3",
   "version": "3.9.6"
  }
 },
 "nbformat": 4,
 "nbformat_minor": 5
}
