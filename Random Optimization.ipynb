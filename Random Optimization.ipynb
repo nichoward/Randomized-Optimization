{
 "cells": [
  {
   "cell_type": "code",
   "execution_count": 1,
   "id": "d9372a33",
   "metadata": {},
   "outputs": [],
   "source": [
    "#!pip install --user mlrose"
   ]
  },
  {
   "cell_type": "code",
   "execution_count": 2,
   "id": "71364c0d",
   "metadata": {},
   "outputs": [],
   "source": [
    "import pandas as pd\n",
    "import numpy as np\n",
    "import time\n",
    "import matplotlib.pyplot as plt\n"
   ]
  },
  {
   "cell_type": "code",
   "execution_count": 3,
   "id": "06e200ae",
   "metadata": {},
   "outputs": [],
   "source": [
    "import six\n",
    "import sys\n",
    "sys.modules['sklearn.externals.six'] = six\n",
    "import mlrose"
   ]
  },
  {
   "cell_type": "code",
   "execution_count": 4,
   "id": "3a814b28",
   "metadata": {},
   "outputs": [
    {
     "data": {
      "text/plain": [
       "array([  1,   2,   3,   4,   5,   6,   7,   8,   9,  10,  11,  12,  13,\n",
       "        14,  15,  16,  17,  18,  19,  20,  21,  22,  23,  24,  25,  26,\n",
       "        27,  28,  29,  30,  31,  32,  33,  34,  35,  36,  37,  38,  39,\n",
       "        40,  41,  42,  43,  44,  45,  46,  47,  48,  49,  50,  51,  52,\n",
       "        53,  54,  55,  56,  57,  58,  59,  60,  61,  62,  63,  64,  65,\n",
       "        66,  67,  68,  69,  70,  71,  72,  73,  74,  75,  76,  77,  78,\n",
       "        79,  80,  81,  82,  83,  84,  85,  86,  87,  88,  89,  90,  91,\n",
       "        92,  93,  94,  95,  96,  97,  98,  99, 100, 101, 102, 103, 104,\n",
       "       105, 106, 107, 108, 109, 110, 111, 112, 113, 114, 115, 116, 117,\n",
       "       118, 119, 120, 121, 122, 123, 124, 125, 126, 127, 128, 129, 130,\n",
       "       131, 132, 133, 134, 135, 136, 137, 138, 139, 140, 141, 142, 143,\n",
       "       144, 145, 146, 147, 148, 149, 150])"
      ]
     },
     "execution_count": 4,
     "metadata": {},
     "output_type": "execute_result"
    }
   ],
   "source": [
    "max_iter = np.linspace(1, 150, num = 150 , dtype = int)\n",
    "max_iter"
   ]
  },
  {
   "cell_type": "markdown",
   "id": "dabb7669",
   "metadata": {},
   "source": [
    "- https://towardsdatascience.com/getting-started-with-randomized-optimization-in-python-f7df46babff0\n",
    "- https://mlrose.readthedocs.io/en/stable/source/fitness.html\n",
    "- https://mlrose.readthedocs.io/en/stable/source/tutorial1.html#define-a-fitness-function-object"
   ]
  },
  {
   "cell_type": "markdown",
   "id": "d86d79e0",
   "metadata": {},
   "source": [
    "https://mlrose.readthedocs.io/en/stable/source/decay.html#decay\n",
    "https://mlrose.readthedocs.io/en/stable/source/algorithms.html#algs"
   ]
  },
  {
   "cell_type": "markdown",
   "id": "68de1ef1",
   "metadata": {},
   "source": [
    "# Strengths of Simulated Annealing"
   ]
  },
  {
   "cell_type": "markdown",
   "id": "961b2bb4",
   "metadata": {},
   "source": [
    "## Set up continuos peaks"
   ]
  },
  {
   "cell_type": "code",
   "execution_count": 5,
   "id": "8efa361d",
   "metadata": {},
   "outputs": [],
   "source": [
    "continuous_peaks = mlrose.ContinuousPeaks(t_pct=0.15)\n",
    "continuous_peaks_state = np.array([0, 0, 0, 1, 0, 0, 0, 0, 0, 1, 1, 1])\n",
    "problem_continuous_peaks = mlrose.DiscreteOpt(length = len(continuous_peaks_state), fitness_fn = continuous_peaks, max_val = 2)\n"
   ]
  },
  {
   "cell_type": "markdown",
   "id": "863f2a44",
   "metadata": {},
   "source": [
    "## Random Hill Climb "
   ]
  },
  {
   "cell_type": "code",
   "execution_count": 6,
   "id": "b98c49ac",
   "metadata": {},
   "outputs": [],
   "source": [
    "random_start_time = time.time()\n",
    "random_best_state, random_best_fitness = mlrose.random_hill_climb(problem_continuous_peaks, \n",
    "                                                      max_attempts = 10, max_iters = 150,\n",
    "                                                      init_state = continuous_peaks_state, random_state = 2)\n",
    "random_runtime = time.time() - random_start_time\n",
    "\n",
    "random_iter_fitness = []\n",
    "for i in max_iter: \n",
    "    random_best_state, random_best_fitness = mlrose.random_hill_climb(problem_continuous_peaks, \n",
    "                                                      max_attempts = 10, max_iters = int(i),\n",
    "                                                      init_state = continuous_peaks_state, random_state = 2)\n",
    "    random_iter_fitness.append(random_best_fitness)\n",
    "    "
   ]
  },
  {
   "cell_type": "markdown",
   "id": "1fb94e2e",
   "metadata": {},
   "source": [
    "## Simulated Annealing"
   ]
  },
  {
   "cell_type": "code",
   "execution_count": 7,
   "id": "175fe24d",
   "metadata": {},
   "outputs": [],
   "source": [
    "sa_start_time = time.time()\n",
    "sa_best_state, sa_best_fitness5 = mlrose.simulated_annealing(problem_continuous_peaks, \n",
    "                                                      max_attempts = 10, max_iters = 150,\n",
    "                                                      init_state = continuous_peaks_state, random_state = 2)\n",
    "sa_runtime = time.time() - sa_start_time\n",
    "\n",
    "sa_iter_fitness = []\n",
    "for i in max_iter: \n",
    "    sa_best_state, sa_best_fitness = mlrose.simulated_annealing(problem_continuous_peaks, \n",
    "                                                      max_attempts = 10, max_iters = int(i),\n",
    "                                                      init_state = continuous_peaks_state, random_state = 2)\n",
    "    sa_iter_fitness.append(sa_best_fitness)\n",
    "    "
   ]
  },
  {
   "cell_type": "code",
   "execution_count": 8,
   "id": "8792d716",
   "metadata": {},
   "outputs": [
    {
     "data": {
      "text/plain": [
       "21.0"
      ]
     },
     "execution_count": 8,
     "metadata": {},
     "output_type": "execute_result"
    }
   ],
   "source": [
    "sa_best_fitness5"
   ]
  },
  {
   "cell_type": "markdown",
   "id": "58b5e459",
   "metadata": {},
   "source": [
    "## Genetic "
   ]
  },
  {
   "cell_type": "code",
   "execution_count": 9,
   "id": "fa514b7c",
   "metadata": {},
   "outputs": [],
   "source": [
    "gen_start_time = time.time()\n",
    "gen_best_state, gen_best_fitness = mlrose.genetic_alg(problem_continuous_peaks, max_attempts = 10, max_iters = 150, random_state = 2)\n",
    "gen_runtime = time.time() - gen_start_time\n",
    "\n",
    "\n",
    "gen_iter_fitness = []\n",
    "for i in max_iter: \n",
    "    gen_best_state, gen_best_fitness = mlrose.genetic_alg(problem_continuous_peaks, \n",
    "                                                          max_attempts = 10, max_iters = int(i), \n",
    "                                                          random_state = 2)\n",
    "\n",
    "    gen_iter_fitness.append(gen_best_fitness)\n",
    "    "
   ]
  },
  {
   "cell_type": "markdown",
   "id": "352bd9ff",
   "metadata": {},
   "source": [
    "## MIMIC"
   ]
  },
  {
   "cell_type": "code",
   "execution_count": 10,
   "id": "8ffbe717",
   "metadata": {},
   "outputs": [],
   "source": [
    "mimic_start_time = time.time()\n",
    "mimic_best_state, mimic_best_fitness = mlrose.mimic(problem_continuous_peaks, max_attempts = 10, max_iters = 150)\n",
    "mimic_runtime = time.time() - mimic_start_time\n",
    "\n",
    "mimic_iter_fitness = []\n",
    "for i in max_iter: \n",
    "    mimic_best_state, mimic_best_fitness = mlrose.mimic(problem_continuous_peaks,\n",
    "                                                        max_attempts = 10, max_iters = int(i),\n",
    "                                                        random_state = 1)\n",
    "\n",
    "\n",
    "    mimic_iter_fitness.append(mimic_best_fitness)"
   ]
  },
  {
   "cell_type": "markdown",
   "id": "dc4bc6ec",
   "metadata": {},
   "source": [
    "## Iteration Comparsion"
   ]
  },
  {
   "cell_type": "code",
   "execution_count": 11,
   "id": "d0e4c296",
   "metadata": {},
   "outputs": [
    {
     "data": {
      "image/png": "[encoded data removed]",
      "text/plain": [
       "<Figure size 432x288 with 1 Axes>"
      ]
     },
     "metadata": {
      "needs_background": "light"
     },
     "output_type": "display_data"
    }
   ],
   "source": [
    "plt.plot(max_iter, sa_iter_fitness, '--', color=\"k\",  label=\"Simulated Annealing\")\n",
    "plt.plot(max_iter, gen_iter_fitness, color=\"m\",  label=\"Genetic\")\n",
    "plt.plot(max_iter, mimic_iter_fitness,linestyle = 'dashdot' , color=\"c\",  label=\"MIMIC\")\n",
    "plt.plot(max_iter, random_iter_fitness, linestyle = 'dotted', color=\"b\",  linewidth=2, label=\"Random Hill Climb\")\n",
    "\n",
    "plt.title(\"Continuos Peaks: Fitness vs Number of Iterations\")\n",
    "plt.xlabel(\"Number of Iterations\")\n",
    "plt.ylabel(\"Fitness Score\") \n",
    "plt.legend(loc=\"best\")\n",
    "plt.tight_layout()\n",
    "plt.show()"
   ]
  },
  {
   "cell_type": "markdown",
   "id": "3dedc001",
   "metadata": {},
   "source": [
    "## Runtime Comparison"
   ]
  },
  {
   "cell_type": "code",
   "execution_count": 12,
   "id": "6d4a7b8d",
   "metadata": {},
   "outputs": [
    {
     "data": {
      "image/png": "[encoded data removed]",
      "text/plain": [
       "<Figure size 432x288 with 1 Axes>"
      ]
     },
     "metadata": {
      "needs_background": "light"
     },
     "output_type": "display_data"
    }
   ],
   "source": [
    "optimizer = ['Random Hill Climb', 'Simulated Annealing', 'Genetic', 'MIMIC']\n",
    "runtime = [random_runtime, sa_runtime, gen_runtime, mimic_runtime]\n",
    "fig = plt.figure()\n",
    "ax = fig.add_axes([0,0,1,1])\n",
    "ax.bar(optimizer,runtime)\n",
    "plt.title(\"Continuos Peaks: Runtime by Optimizer\")\n",
    "plt.ylabel(\"Time in Seconds\") \n",
    "plt.show()\n"
   ]
  },
  {
   "cell_type": "markdown",
   "id": "dad40d5f",
   "metadata": {},
   "source": [
    "# Strengths of Genetic Algorithm\n"
   ]
  },
  {
   "cell_type": "markdown",
   "id": "3386976f",
   "metadata": {},
   "source": [
    "## Set up One Max Problem "
   ]
  },
  {
   "cell_type": "code",
   "execution_count": 13,
   "id": "7a14227b",
   "metadata": {},
   "outputs": [],
   "source": [
    "one_max = mlrose.OneMax()\n",
    "one_max_init_state = np.array([0, 0, 0, 0, 0, 0, 0, 0, 0])\n",
    "problem_one_max = mlrose.DiscreteOpt(length = len(one_max_init_state), fitness_fn = one_max)\n"
   ]
  },
  {
   "cell_type": "markdown",
   "id": "6738e51b",
   "metadata": {},
   "source": [
    "## Random Hill Climb"
   ]
  },
  {
   "cell_type": "code",
   "execution_count": 14,
   "id": "24eb9c73",
   "metadata": {},
   "outputs": [],
   "source": [
    "random_start_time1 = time.time()\n",
    "random_best_state1, random_best_fitness1 = mlrose.random_hill_climb(problem_one_max, \n",
    "                                                      max_attempts = 10, max_iters = 150,\n",
    "                                                      init_state = one_max_init_state, random_state = 2)\n",
    "random_runtime1 = time.time() - random_start_time1\n",
    "\n",
    "random_iter_fitness1 = []\n",
    "for i in max_iter: \n",
    "    random_best_state1, random_best_fitness1 = mlrose.random_hill_climb(problem_one_max, \n",
    "                                                      max_attempts = 10, max_iters = int(i),\n",
    "                                                      init_state = one_max_init_state, random_state = 2)\n",
    "    random_iter_fitness1.append(random_best_fitness1)\n",
    "    "
   ]
  },
  {
   "cell_type": "markdown",
   "id": "0bba5c7f",
   "metadata": {},
   "source": [
    "## Simulated Annealing"
   ]
  },
  {
   "cell_type": "code",
   "execution_count": 15,
   "id": "660d9ef3",
   "metadata": {},
   "outputs": [],
   "source": [
    "sa_start_time1 = time.time()\n",
    "sa_best_state1, sa_best_fitness1 = mlrose.simulated_annealing(problem_one_max, \n",
    "                                                      max_attempts = 10, max_iters = 150,\n",
    "                                                      init_state = one_max_init_state, random_state = 2)\n",
    "sa_runtime1 = time.time() - sa_start_time1\n",
    "\n",
    "sa_iter_fitness1 = []\n",
    "for i in max_iter: \n",
    "    sa_best_state1, sa_best_fitness1 = mlrose.simulated_annealing(problem_one_max, \n",
    "                                                      max_attempts = 10, max_iters = int(i),\n",
    "                                                      init_state = one_max_init_state, random_state = 2)\n",
    "    sa_iter_fitness1.append(sa_best_fitness1)\n",
    "    "
   ]
  },
  {
   "cell_type": "markdown",
   "id": "f6e27baf",
   "metadata": {},
   "source": [
    "## Genetic Algorithm"
   ]
  },
  {
   "cell_type": "code",
   "execution_count": 16,
   "id": "d47fb267",
   "metadata": {},
   "outputs": [],
   "source": [
    "gen_start_time1= time.time()\n",
    "gen_best_state1, gen_best_fitness1 = mlrose.genetic_alg(problem_one_max, max_attempts = 10, max_iters = 150, random_state =2)\n",
    "gen_runtime1 = time.time() - gen_start_time1\n",
    "\n",
    "\n",
    "gen_iter_fitness1 = []\n",
    "for i in max_iter: \n",
    "    gen_best_state1, gen_best_fitness1 = mlrose.genetic_alg(problem_one_max, max_attempts = 10, max_iters = int(i), random_state = 2)\n",
    "\n",
    "    gen_iter_fitness1.append(gen_best_fitness1)\n",
    "    "
   ]
  },
  {
   "cell_type": "code",
   "execution_count": 17,
   "id": "a9c0df2e",
   "metadata": {},
   "outputs": [
    {
     "data": {
      "text/plain": [
       "(array([1, 1, 1, 1, 1, 1, 1, 1, 1]),\n",
       " 9.0,\n",
       " array([8., 8., 9., 9., 9., 9., 9., 9., 9., 9., 9., 9., 9.]))"
      ]
     },
     "execution_count": 17,
     "metadata": {},
     "output_type": "execute_result"
    }
   ],
   "source": [
    "mlrose.genetic_alg(problem_one_max, max_attempts = 10, max_iters = 150, random_state =2, curve = True)\n"
   ]
  },
  {
   "cell_type": "markdown",
   "id": "4217afda",
   "metadata": {},
   "source": [
    "## MIMIC"
   ]
  },
  {
   "cell_type": "code",
   "execution_count": 18,
   "id": "c94665b8",
   "metadata": {},
   "outputs": [],
   "source": [
    "mimic_start_time1 = time.time()\n",
    "mimic_best_state1, mimic_best_fitness1 = mlrose.mimic(problem_one_max, max_attempts = 10, max_iters = 150, random_state = 2)\n",
    "mimic_runtime1 = time.time() - mimic_start_time1\n",
    "\n",
    "mimic_iter_fitness1 = []\n",
    "for i in max_iter: \n",
    "    mimic_best_state1, mimic_best_fitness1 = mlrose.mimic(problem_one_max, max_attempts = 10,max_iters = int(i), random_state = 2)\n",
    "\n",
    "\n",
    "    mimic_iter_fitness1.append(mimic_best_fitness1)"
   ]
  },
  {
   "cell_type": "code",
   "execution_count": 19,
   "id": "a89a1cfe",
   "metadata": {},
   "outputs": [
    {
     "data": {
      "text/plain": [
       "(array([1, 1, 1, 1, 1, 1, 1, 1, 1]),\n",
       " 9.0,\n",
       " array([9., 9., 9., 9., 9., 9., 9., 9., 9., 9., 9.]))"
      ]
     },
     "execution_count": 19,
     "metadata": {},
     "output_type": "execute_result"
    }
   ],
   "source": [
    "mlrose.mimic(problem_one_max, max_attempts = 10,max_iters = int(i), random_state = 2, curve = True)\n"
   ]
  },
  {
   "cell_type": "code",
   "execution_count": 20,
   "id": "6571b934",
   "metadata": {},
   "outputs": [
    {
     "data": {
      "image/png": "[encoded data removed]",
      "text/plain": [
       "<Figure size 432x288 with 1 Axes>"
      ]
     },
     "metadata": {
      "needs_background": "light"
     },
     "output_type": "display_data"
    }
   ],
   "source": [
    "plt.plot(max_iter, sa_iter_fitness1, '--', color=\"k\",  label=\"Simulated Annealing\")\n",
    "plt.plot(max_iter, gen_iter_fitness1, color=\"m\",  label=\"Genetic\")\n",
    "plt.plot(max_iter, mimic_iter_fitness1,linestyle = 'dashdot' , color=\"c\",  label=\"MIMIC\")\n",
    "plt.plot(max_iter, random_iter_fitness1, linestyle = 'dotted', color=\"b\",  linewidth=2, label=\"Random Hill Climb\")\n",
    "\n",
    "plt.title(\"One Max: Fitness vs Number of Iterations\")\n",
    "plt.xlabel(\"Number of Iterations\")\n",
    "plt.ylabel(\"Fitness Score\") \n",
    "plt.legend(loc=\"best\")\n",
    "plt.tight_layout()\n",
    "plt.show()"
   ]
  },
  {
   "cell_type": "code",
   "execution_count": 21,
   "id": "22751cf4",
   "metadata": {},
   "outputs": [
    {
     "data": {
      "image/png": "[encoded data removed]",
      "text/plain": [
       "<Figure size 432x288 with 1 Axes>"
      ]
     },
     "metadata": {
      "needs_background": "light"
     },
     "output_type": "display_data"
    }
   ],
   "source": [
    "optimizer = ['Random Hill Climb', 'Simulated Annealing', 'Genetic', 'MIMIC']\n",
    "runtime = [random_runtime1, sa_runtime1, gen_runtime1, mimic_runtime1]\n",
    "fig = plt.figure()\n",
    "ax = fig.add_axes([0,0,1,1])\n",
    "ax.bar(optimizer,runtime)\n",
    "plt.title(\"One Max: Runtime by Optimizer\")\n",
    "\n",
    "plt.ylabel(\"Time in Seconds\") \n",
    "plt.show()\n"
   ]
  },
  {
   "cell_type": "markdown",
   "id": "537cb2ee",
   "metadata": {},
   "source": [
    "# Strengths of MIMIC"
   ]
  },
  {
   "cell_type": "markdown",
   "id": "c2408bd6",
   "metadata": {},
   "source": [
    "## Set Up Knapsack"
   ]
  },
  {
   "cell_type": "code",
   "execution_count": 22,
   "id": "afe4313c",
   "metadata": {},
   "outputs": [],
   "source": [
    "weights = [10, 5, 2, 8, 15]\n",
    "values = [1, 2, 3, 4, 5]\n",
    "max_weight_pct = 0.6\n",
    "knapsack = mlrose.Knapsack(weights, values, max_weight_pct)\n",
    "knapsack_init_state = np.array([1, 0, 1, 1, 0])\n",
    "\n",
    "problem_knapsack = mlrose.DiscreteOpt(length = 5, fitness_fn = knapsack)\n"
   ]
  },
  {
   "cell_type": "markdown",
   "id": "ae14c7a5",
   "metadata": {},
   "source": [
    "## Random Hill Climb"
   ]
  },
  {
   "cell_type": "code",
   "execution_count": 23,
   "id": "03b79796",
   "metadata": {},
   "outputs": [],
   "source": [
    "random_start_time2 = time.time()\n",
    "random_best_state2, random_best_fitness2 = mlrose.random_hill_climb(problem_knapsack, \n",
    "                                                      max_attempts = 10, max_iters = 150,\n",
    "                                                      init_state = knapsack_init_state, random_state = 2)\n",
    "random_runtime2 = time.time() - random_start_time2\n",
    "\n",
    "random_iter_fitness2 = []\n",
    "for i in max_iter: \n",
    "    random_best_state2, random_best_fitness2 = mlrose.random_hill_climb(problem_knapsack, \n",
    "                                                      max_attempts = 10, max_iters = int(i),\n",
    "                                                      init_state = knapsack_init_state, random_state = 2)\n",
    "    random_iter_fitness2.append(random_best_fitness2)\n",
    "    "
   ]
  },
  {
   "cell_type": "markdown",
   "id": "a7a8d521",
   "metadata": {},
   "source": [
    "## Simulated Annealing "
   ]
  },
  {
   "cell_type": "code",
   "execution_count": 24,
   "id": "cf3893a5",
   "metadata": {},
   "outputs": [],
   "source": [
    "sa_start_time2 = time.time()\n",
    "sa_best_state2, sa_best_fitness2 = mlrose.simulated_annealing(problem_knapsack, \n",
    "                                                      max_attempts = 10, max_iters = 150,\n",
    "                                                      init_state = knapsack_init_state, random_state = 2)\n",
    "sa_runtime2 = time.time() - sa_start_time2\n",
    "\n",
    "sa_iter_fitness2 = []\n",
    "for i in max_iter: \n",
    "    sa_best_state, sa_best_fitness = mlrose.simulated_annealing(problem_knapsack, \n",
    "                                                      max_attempts = 10, max_iters = int(i),\n",
    "                                                      init_state = knapsack_init_state, random_state = 2)\n",
    "    sa_iter_fitness2.append(sa_best_fitness2)\n",
    "    "
   ]
  },
  {
   "cell_type": "code",
   "execution_count": 25,
   "id": "82a990fc",
   "metadata": {},
   "outputs": [
    {
     "data": {
      "text/plain": [
       "array([0, 1, 1, 1, 0])"
      ]
     },
     "execution_count": 25,
     "metadata": {},
     "output_type": "execute_result"
    }
   ],
   "source": [
    "sa_best_state"
   ]
  },
  {
   "cell_type": "markdown",
   "id": "719fc85a",
   "metadata": {},
   "source": [
    "## Genetic"
   ]
  },
  {
   "cell_type": "code",
   "execution_count": 26,
   "id": "cdaa2973",
   "metadata": {},
   "outputs": [],
   "source": [
    "gen_start_time2 = time.time()\n",
    "gen_best_state2, gen_best_fitness2 = mlrose.genetic_alg(problem_knapsack, max_attempts = 10, max_iters = 150, random_state = 2)\n",
    "gen_runtime2 = time.time() - gen_start_time2\n",
    "\n",
    "\n",
    "gen_iter_fitness2 = []\n",
    "for i in max_iter: \n",
    "    gen_best_state2, gen_best_fitness2 = mlrose.genetic_alg(problem_knapsack, max_attempts = 10, max_iters = int(i), random_state = 2)\n",
    "\n",
    "    gen_iter_fitness2.append(gen_best_fitness2)\n",
    "    "
   ]
  },
  {
   "cell_type": "code",
   "execution_count": 27,
   "id": "2992a64b",
   "metadata": {},
   "outputs": [
    {
     "data": {
      "text/plain": [
       "array([0, 1, 1, 0, 1])"
      ]
     },
     "execution_count": 27,
     "metadata": {},
     "output_type": "execute_result"
    }
   ],
   "source": [
    "gen_best_state2"
   ]
  },
  {
   "cell_type": "markdown",
   "id": "9fad4afa",
   "metadata": {},
   "source": [
    "## MIMIC"
   ]
  },
  {
   "cell_type": "code",
   "execution_count": 28,
   "id": "5e0290a8",
   "metadata": {},
   "outputs": [],
   "source": [
    "mimic_start_time2 = time.time()\n",
    "mimic_best_state2, mimic_best_fitness2 = mlrose.mimic(problem_knapsack, max_attempts = 10, max_iters = 50, random_state = 2)\n",
    "mimic_runtime2 = time.time() - mimic_start_time2\n",
    "\n",
    "mimic_iter_fitness2 = []\n",
    "for i in max_iter: \n",
    "    mimic_best_state2, mimic_best_fitness2 = mlrose.mimic(problem_knapsack, max_attempts = 10,max_iters = int(i), random_state = 2)\n",
    "\n",
    "\n",
    "    mimic_iter_fitness2.append(mimic_best_fitness2)"
   ]
  },
  {
   "cell_type": "code",
   "execution_count": 29,
   "id": "ede3ec18",
   "metadata": {},
   "outputs": [
    {
     "data": {
      "text/plain": [
       "array([0, 1, 1, 0, 1])"
      ]
     },
     "execution_count": 29,
     "metadata": {},
     "output_type": "execute_result"
    }
   ],
   "source": [
    "mimic_best_state2"
   ]
  },
  {
   "cell_type": "code",
   "execution_count": 30,
   "id": "c46c5dc5",
   "metadata": {},
   "outputs": [
    {
     "data": {
      "image/png": "[encoded data removed]",
      "text/plain": [
       "<Figure size 432x288 with 1 Axes>"
      ]
     },
     "metadata": {
      "needs_background": "light"
     },
     "output_type": "display_data"
    }
   ],
   "source": [
    "plt.plot(max_iter, sa_iter_fitness2, '--', color=\"k\",  label=\"Simulated Annealing\")\n",
    "plt.plot(max_iter, gen_iter_fitness2, color=\"m\",  label=\"Genetic\")\n",
    "plt.plot(max_iter, mimic_iter_fitness2,linestyle = 'dashdot' , color=\"c\",  label=\"MIMIC\")\n",
    "plt.plot(max_iter, random_iter_fitness2, linestyle = 'dotted', color=\"b\",  linewidth=2, label=\"Random Hill Climb\")\n",
    "\n",
    "plt.title(\"Knapsack: Fitness vs Number of Iterations\")\n",
    "plt.xlabel(\"Number of Iterations\")\n",
    "plt.ylabel(\"Fitness Score\") \n",
    "plt.legend(loc=\"best\")\n",
    "plt.tight_layout()\n",
    "plt.show()"
   ]
  },
  {
   "cell_type": "code",
   "execution_count": 31,
   "id": "78d1ba17",
   "metadata": {},
   "outputs": [
    {
     "data": {
      "image/png": "[encoded data removed]",
      "text/plain": [
       "<Figure size 432x288 with 1 Axes>"
      ]
     },
     "metadata": {
      "needs_background": "light"
     },
     "output_type": "display_data"
    }
   ],
   "source": [
    "optimizer = ['Random Hill Climb', 'Simulated Annealing', 'Genetic', 'MIMIC']\n",
    "runtime = [random_runtime2, sa_runtime2, gen_runtime2, mimic_runtime2]\n",
    "fig = plt.figure()\n",
    "ax = fig.add_axes([0,0,1,1])\n",
    "ax.bar(optimizer,runtime)\n",
    "plt.title(\"Knapsack: Runtime by Optimizer\")\n",
    "plt.ylabel(\"Time in Seconds\") \n",
    "plt.show()\n"
   ]
  },
  {
   "cell_type": "code",
   "execution_count": null,
   "id": "70afd0ba",
   "metadata": {},
   "outputs": [],
   "source": []
  },
  {
   "cell_type": "code",
   "execution_count": null,
   "id": "1ecd090e",
   "metadata": {},
   "outputs": [],
   "source": []
  },
  {
   "cell_type": "code",
   "execution_count": null,
   "id": "05b0a4a6",
   "metadata": {},
   "outputs": [],
   "source": []
  }
 ],
 "metadata": {
  "kernelspec": {
   "display_name": "Python 3 (ipykernel)",
   "language": "python",
   "name": "python3"
  },
  "language_info": {
   "codemirror_mode": {
    "name": "ipython",
    "version": 3
   },
   "file_extension": ".py",
   "mimetype": "text/x-python",
   "name": "python",
   "nbconvert_exporter": "python",
   "pygments_lexer": "ipython3",
   "version": "3.9.6"
  }
 },
 "nbformat": 4,
 "nbformat_minor": 5
}
